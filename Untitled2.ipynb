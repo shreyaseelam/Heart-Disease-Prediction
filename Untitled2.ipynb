{
 "cells": [
  {
   "cell_type": "code",
   "execution_count": 2,
   "metadata": {},
   "outputs": [
    {
     "name": "stdout",
     "output_type": "stream",
     "text": [
      "[0, 0, 0, 0, 0, 0, 0, 0, 0, 0, 0, 0, 0, 0, 0, 0, 0, 0, 0, 0, 0, 0, 0, 0, 0, 0, 0, 0, 0, 0, 0, 0, 0, 0, 0, 0, 0, 0, 0, 0, 0, 0, 0, 0, 0, 0, 0, 0, 0, 0, 0, 0, 0, 0, 0, 0, 0, 0, 0, 0, 0]\n",
      "Mean Absolute Error: 0.003538813269720314\n",
      "Mean Squared Error: 0.0001575100293922954\n",
      "Root Mean Squared Error: 0.01255029997220367\n"
     ]
    }
   ],
   "source": [
    "import pandas as pd  \n",
    "import numpy as np  \n",
    "import matplotlib.pyplot as plt\n",
    "from sklearn import metrics\n",
    "from sklearn.model_selection import train_test_split\n",
    "from sklearn.linear_model import LinearRegression\n",
    "# Reading the dataset from the file\n",
    "coeff = []\n",
    "dataset = pd.read_csv('server_data.csv')\n",
    "my_list =list(dataset)\n",
    "#print(dataset.head())\n",
    "#dataset.describe()\n",
    "#Split the data set into independent and dependent varialbles\n",
    "X = dataset[[my_list[1],my_list[2],my_list[3],my_list[4],my_list[5],my_list[6],my_list[7],my_list[8],my_list[9],my_list[10],my_list[11],my_list[12],my_list[13]]]\n",
    "y = dataset[my_list[-1]]\n",
    "coeff.append(my_list[0])\n",
    "#Split the dataset into training and testing\n",
    "X_train, X_test, y_train, y_test = train_test_split(X, y, test_size=0.2, random_state=0)\n",
    "#Training the regression model \n",
    "regressor = LinearRegression()  \n",
    "regressor.fit(X_train, y_train)\n",
    "#Predecting the output from the model\n",
    "y_pred = regressor.predict(X_test)\n",
    "pred = []\n",
    "output = []\n",
    "for i in range(61):\n",
    "    m = y_pred.flat[i]\n",
    "    pred.append(m)\n",
    "    if m > 0.5:\n",
    "        output.append(1)\n",
    "    else:\n",
    "        output.append(0)\n",
    "print(output)\n",
    "#Evaluating the model\n",
    "print('Mean Absolute Error:', metrics.mean_absolute_error(y_test, y_pred))  \n",
    "print('Mean Squared Error:', metrics.mean_squared_error(y_test, y_pred))  \n",
    "print('Root Mean Squared Error:', np.sqrt(metrics.mean_squared_error(y_test, y_pred)))\n",
    "#from sklearn.metrics import classification_report, confusion_matrix  \n",
    "#print(confusion_matrix(y_test,output))  \n",
    "#print(classification_report(y_test,output))\n",
    "    \n",
    "#df = pd.DataFrame({'Actual': y_test, 'Predicted': y_pred})\n",
    "#print(my_matrix)     \n",
    "#print(df)  \n",
    "#print(my_matrix[0][0])"
   ]
  },
  {
   "cell_type": "code",
   "execution_count": null,
   "metadata": {},
   "outputs": [],
   "source": []
  }
 ],
 "metadata": {
  "kernelspec": {
   "display_name": "Python 3",
   "language": "python",
   "name": "python3"
  },
  "language_info": {
   "codemirror_mode": {
    "name": "ipython",
    "version": 3
   },
   "file_extension": ".py",
   "mimetype": "text/x-python",
   "name": "python",
   "nbconvert_exporter": "python",
   "pygments_lexer": "ipython3",
   "version": "3.7.4"
  }
 },
 "nbformat": 4,
 "nbformat_minor": 2
}
